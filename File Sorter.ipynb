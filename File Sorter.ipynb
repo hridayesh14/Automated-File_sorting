{
 "cells": [
  {
   "cell_type": "code",
   "execution_count": 6,
   "id": "b02f4c82",
   "metadata": {},
   "outputs": [],
   "source": [
    "import os\n",
    "import shutil\n",
    "\n",
    "\n",
    "path = r\"/\"\n",
    "\n",
    "\n",
    "file_names = os.listdir(path)\n",
    "\n",
    "\n",
    "file_extensions = set()\n",
    "\n",
    "\n",
    "for file_name in file_names:\n",
    "    if os.path.isfile(os.path.join(path, file_name)):  \n",
    "        extension = os.path.splitext(file_name)[1].lower()\n",
    "        if extension:\n",
    "            file_extensions.add(extension)\n",
    "\n",
    "\n",
    "for ext in file_extensions:\n",
    "    folder_name = ext[1:] + \" files\"\n",
    "    folder_path = os.path.join(path, folder_name)\n",
    "    if not os.path.exists(folder_path):\n",
    "        os.makedirs(folder_path)\n",
    "\n",
    "\n",
    "for file_name in file_names:\n",
    "    \n",
    "    if os.path.isdir(os.path.join(path, file_name)):\n",
    "        continue\n",
    "\n",
    "  \n",
    "    file_extension = os.path.splitext(file_name)[1].lower()\n",
    "    if file_extension:\n",
    "        folder_name = file_extension[1:] + \" files\"\n",
    "        target_folder_path = os.path.join(path, folder_name)\n",
    "\n",
    "     \n",
    "        current_file_path = os.path.join(path, file_name)\n",
    "        target_file_path = os.path.join(target_folder_path, file_name)\n",
    "        \n",
    "     \n",
    "        if not os.path.exists(target_file_path):\n",
    "            shutil.move(current_file_path, target_file_path)"
   ]
  },
  {
   "cell_type": "code",
   "execution_count": null,
   "id": "a9ff9846",
   "metadata": {},
   "outputs": [],
   "source": []
  }
 ],
 "metadata": {
  "kernelspec": {
   "display_name": "Python 3 (ipykernel)",
   "language": "python",
   "name": "python3"
  },
  "language_info": {
   "codemirror_mode": {
    "name": "ipython",
    "version": 3
   },
   "file_extension": ".py",
   "mimetype": "text/x-python",
   "name": "python",
   "nbconvert_exporter": "python",
   "pygments_lexer": "ipython3",
   "version": "3.11.2"
  }
 },
 "nbformat": 4,
 "nbformat_minor": 5
}
